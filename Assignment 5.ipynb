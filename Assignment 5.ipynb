{
 "cells": [
  {
   "cell_type": "code",
   "execution_count": 2,
   "id": "682ab021",
   "metadata": {},
   "outputs": [
    {
     "data": {
      "text/plain": [
       "dict"
      ]
     },
     "execution_count": 2,
     "metadata": {},
     "output_type": "execute_result"
    }
   ],
   "source": [
    "#question 1\n",
    "d = {}\n",
    "type(d)\n"
   ]
  },
  {
   "cell_type": "code",
   "execution_count": 3,
   "id": "7a9744d8",
   "metadata": {},
   "outputs": [
    {
     "data": {
      "text/plain": [
       "{}"
      ]
     },
     "execution_count": 3,
     "metadata": {},
     "output_type": "execute_result"
    }
   ],
   "source": [
    "d"
   ]
  },
  {
   "cell_type": "code",
   "execution_count": 4,
   "id": "a9db8d99",
   "metadata": {},
   "outputs": [
    {
     "data": {
      "text/plain": [
       "{'foo': 42}"
      ]
     },
     "execution_count": 4,
     "metadata": {},
     "output_type": "execute_result"
    }
   ],
   "source": [
    "# question 2\n",
    "d = {'foo':42}\n",
    "d\n"
   ]
  },
  {
   "cell_type": "code",
   "execution_count": null,
   "id": "5fb0b85e",
   "metadata": {},
   "outputs": [],
   "source": [
    "#the value of foo is 42"
   ]
  },
  {
   "cell_type": "code",
   "execution_count": null,
   "id": "bc1085fa",
   "metadata": {},
   "outputs": [],
   "source": [
    "# question 3\n",
    "# The indices of list are integers starting from 0.\n",
    "# The keys of dictionary can be of any data type.\n",
    "# The elements indices are accessed via indices.\n",
    "# The elements are accessed via key-values\n",
    "# There is no guarantee for maintaining order.\n",
    "# Dictionary is a hashed structure of key and value pairs."
   ]
  },
  {
   "cell_type": "code",
   "execution_count": 5,
   "id": "53c05bb3",
   "metadata": {},
   "outputs": [
    {
     "ename": "KeyError",
     "evalue": "'foo'",
     "output_type": "error",
     "traceback": [
      "\u001b[1;31m---------------------------------------------------------------------------\u001b[0m",
      "\u001b[1;31mKeyError\u001b[0m                                  Traceback (most recent call last)",
      "\u001b[1;32m~\\AppData\\Local\\Temp\\ipykernel_34856\\3673744723.py\u001b[0m in \u001b[0;36m<module>\u001b[1;34m\u001b[0m\n\u001b[0;32m      1\u001b[0m \u001b[1;31m# question 4\u001b[0m\u001b[1;33m\u001b[0m\u001b[1;33m\u001b[0m\u001b[0m\n\u001b[0;32m      2\u001b[0m \u001b[0mspam\u001b[0m \u001b[1;33m=\u001b[0m \u001b[1;33m{\u001b[0m\u001b[1;34m'bar'\u001b[0m\u001b[1;33m:\u001b[0m\u001b[1;36m100\u001b[0m\u001b[1;33m}\u001b[0m\u001b[1;33m\u001b[0m\u001b[1;33m\u001b[0m\u001b[0m\n\u001b[1;32m----> 3\u001b[1;33m \u001b[0mspam\u001b[0m\u001b[1;33m[\u001b[0m\u001b[1;34m'foo'\u001b[0m\u001b[1;33m]\u001b[0m\u001b[1;33m\u001b[0m\u001b[1;33m\u001b[0m\u001b[0m\n\u001b[0m",
      "\u001b[1;31mKeyError\u001b[0m: 'foo'"
     ]
    }
   ],
   "source": [
    "# question 4\n",
    "spam = {'bar':100}\n",
    "spam['foo']         # keyerror will come\n"
   ]
  },
  {
   "cell_type": "code",
   "execution_count": 6,
   "id": "d8e214c0",
   "metadata": {},
   "outputs": [
    {
     "data": {
      "text/plain": [
       "100"
      ]
     },
     "execution_count": 6,
     "metadata": {},
     "output_type": "execute_result"
    }
   ],
   "source": [
    "spam['bar']"
   ]
  },
  {
   "cell_type": "code",
   "execution_count": 7,
   "id": "f910ee69",
   "metadata": {},
   "outputs": [
    {
     "data": {
      "text/plain": [
       "dict_keys(['cat'])"
      ]
     },
     "execution_count": 7,
     "metadata": {},
     "output_type": "execute_result"
    }
   ],
   "source": [
    "# question 5\n",
    "spam = {'cat':'puppy'}   # cat is a key\n",
    "spam.keys()\n"
   ]
  },
  {
   "cell_type": "code",
   "execution_count": 9,
   "id": "4aea6a36",
   "metadata": {},
   "outputs": [
    {
     "data": {
      "text/plain": [
       "dict_values(['cat'])"
      ]
     },
     "execution_count": 9,
     "metadata": {},
     "output_type": "execute_result"
    }
   ],
   "source": [
    "# question 6\n",
    "spam = {'puppy':'cat'}   #cat is a value\n",
    "spam.values() "
   ]
  },
  {
   "cell_type": "code",
   "execution_count": 54,
   "id": "34cfc876",
   "metadata": {},
   "outputs": [
    {
     "data": {
      "text/plain": [
       "{'': 'black'}"
      ]
     },
     "execution_count": 54,
     "metadata": {},
     "output_type": "execute_result"
    }
   ],
   "source": [
    "# question 7\n",
    "spam = {'':'black'}\n",
    "spam"
   ]
  },
  {
   "cell_type": "code",
   "execution_count": 57,
   "id": "e90cfa68",
   "metadata": {},
   "outputs": [
    {
     "name": "stdout",
     "output_type": "stream",
     "text": [
      "Does spam have a non None value? : False\n"
     ]
    }
   ],
   "source": [
    "dict = 'color' in spam and spam['color'] is not None\n",
    " \n",
    "# printing result\n",
    "print(\"Does spam have a non None value? : \" + str(dict))"
   ]
  },
  {
   "cell_type": "code",
   "execution_count": 38,
   "id": "5331587e",
   "metadata": {},
   "outputs": [
    {
     "name": "stdout",
     "output_type": "stream",
     "text": [
      "{'divya': {'age': 31,\n",
      "           'books': ['Harry Potter', 'Lord of the Rings'],\n",
      "           'gender': 'female'},\n",
      " 'sathish': {'age': 40, 'books': ['Lord of the Flies'], 'gender': 'male'}}\n"
     ]
    }
   ],
   "source": [
    "# question 8\n",
    "# Pretty Print a Dictionary using pprint\n",
    "import pprint\n",
    "\n",
    "my_dic = {'divya':{'age': 31, 'gender': 'female', 'books': ['Harry Potter', 'Lord of the Rings']}, 'sathish': {'age': 40, 'gender': 'male', 'books':['Lord of the Flies']}}\n",
    "pprint.pprint(my_dic)\n"
   ]
  },
  {
   "cell_type": "code",
   "execution_count": null,
   "id": "95a0e9fe",
   "metadata": {},
   "outputs": [],
   "source": []
  },
  {
   "cell_type": "code",
   "execution_count": 51,
   "id": "1f1c89f5",
   "metadata": {},
   "outputs": [
    {
     "name": "stdout",
     "output_type": "stream",
     "text": [
      "{\n",
      "  \"divya\": {\n",
      "    \"age\": 31,\n",
      "    \"gender\": \"female\",\n",
      "    \"books\": [\n",
      "      \"Harry Potter\",\n",
      "      \"Lord of the Rings\"\n",
      "    ]\n",
      "  },\n",
      "  \"sathish\": {\n",
      "    \"age\": 40,\n",
      "    \"gender\": \"male\",\n",
      "    \"books\": [\n",
      "      \"Lord of the Flies\"\n",
      "    ]\n",
      "  }\n",
      "}\n"
     ]
    }
   ],
   "source": [
    "#pretty print a dictionary using json module\n",
    "import json\n",
    "my_dic = {'divya':{'age': 31, 'gender': 'female', 'books': ['Harry Potter', 'Lord of the Rings']}, 'sathish': {'age': 40, 'gender': 'male', 'books':['Lord of the Flies']}}\n",
    "pretty = json.dumps(my_dic, indent=2) #json.dump() is the function used to print if it is a nested dictionary\n",
    "print(pretty) "
   ]
  }
 ],
 "metadata": {
  "kernelspec": {
   "display_name": "Python 3 (ipykernel)",
   "language": "python",
   "name": "python3"
  },
  "language_info": {
   "codemirror_mode": {
    "name": "ipython",
    "version": 3
   },
   "file_extension": ".py",
   "mimetype": "text/x-python",
   "name": "python",
   "nbconvert_exporter": "python",
   "pygments_lexer": "ipython3",
   "version": "3.9.13"
  }
 },
 "nbformat": 4,
 "nbformat_minor": 5
}
